{
 "cells": [
  {
   "cell_type": "markdown",
   "metadata": {},
   "source": [
    "# 2 - Conditional probability and Bayes theorem"
   ]
  },
  {
   "cell_type": "markdown",
   "metadata": {},
   "source": [
    "## Conditional Probability"
   ]
  },
  {
   "cell_type": "markdown",
   "metadata": {},
   "source": [
    "### Definition of Conditional Probability"
   ]
  },
  {
   "cell_type": "markdown",
   "metadata": {},
   "source": [
    "- Conditional Probability: of an event $A$ conditional on an event $B$ is:\n",
    "\\begin{equation}\n",
    "    P(A \\mid B) = \\frac{P(A \\cap B)}{P(B)} \\hspace{0.5cm}  \\text{for } P(B) >0\n",
    "\\end{equation}"
   ]
  },
  {
   "cell_type": "markdown",
   "metadata": {},
   "source": [
    "## Posterior Probabilities"
   ]
  },
  {
   "cell_type": "markdown",
   "metadata": {},
   "source": [
    "### Law of Total Probability"
   ]
  },
  {
   "cell_type": "markdown",
   "metadata": {},
   "source": [
    "- Given $\\{ A_1, A_2, \\cdots, A_n \\}$ a partition of sample space $S$, the probability of an event $B$, $P(B)$ can be expressed as:\n",
    "\\begin{equation}\n",
    "    P(B) = \\sum_{i=1}^n P(A_i)P(B \\mid A_i)\n",
    "\\end{equation}"
   ]
  },
  {
   "cell_type": "markdown",
   "metadata": {},
   "source": [
    "### Bayes' Theorem"
   ]
  },
  {
   "cell_type": "markdown",
   "metadata": {},
   "source": [
    "- Given $\\{ A_1, A_2, \\cdots, A_n \\}$ a partition of a sample space, then the posterior probabilities of the event $A_i$ conditional on an event $B$ can be obtained from the probabilities $P(A_i)$ and $P(A_i \\mid B)$ using the formula:\n",
    "\\begin{equation}\n",
    "    P(A_i \\mid B) = \\frac{P(A_i)P(B \\mid A_i)}{\\sum_{j=1}^n P(A_j)P(B \\mid A_j)}\n",
    "\\end{equation}"
   ]
  },
  {
   "cell_type": "markdown",
   "metadata": {},
   "source": [
    "\\begin{equation}\n",
    "    P(H \\mid D) = \\frac{P(H)P(D \\mid H)}{P(D)}\n",
    "\\end{equation}"
   ]
  },
  {
   "cell_type": "markdown",
   "metadata": {},
   "source": [
    "### 조건부확률 - 주사위 던지기"
   ]
  },
  {
   "cell_type": "code",
   "execution_count": null,
   "metadata": {},
   "outputs": [],
   "source": [
    "# 주사위를 굴려 짝수가 나왔을 때, 그것이 6일 확률을 구하시오.\n",
    "\n",
    "import random\n",
    "\n",
    "sample_space = [1,2,3,4,5,6]\n",
    "\n",
    "# 사건 A: 짝수가 나왔다\n",
    "# 사건 B: 6이 나왔다\n",
    "\n",
    "event_A = [2,4,6]\n",
    "\n",
    "# 사건 A에서 사건 B: 짝수가 나왔다\n",
    "event_A_and_B = [a for a in event_A if a == 6]\n",
    "\n",
    "# 조건부 확률 P(B|A) = P(A and B) / P(A)\n",
    "P_A = len(event_A) / len(sample_space)\n",
    "P_A_and_B = len(event_A_and_B) / len(sample_space)\n",
    "\n",
    "conditional_probability = P_A_and_B / P_A\n",
    "\n",
    "print(\"6이 나왔을 때, 짝수가 나올 확률: {}\".format(conditional_probability))"
   ]
  },
  {
   "cell_type": "code",
   "execution_count": 9,
   "metadata": {},
   "outputs": [
    {
     "name": "stdout",
     "output_type": "stream",
     "text": [
      "6이 나왔을 때, 짝수가 나올 확률: 0.3333333333333333\n",
      "6이 나왔을 때, 짝수가 나올 확률: 0.3333333333333333\n",
      "6이 나왔을 때, 짝수가 나올 확률: 0.33\n",
      "6이 나왔을 때, 짝수가 나올 확률: 33.33%\n"
     ]
    }
   ],
   "source": [
    "print(f\"6이 나왔을 때, 짝수가 나올 확률: {conditional_probability}\")\n",
    "print(f\"6이 나왔을 때, 짝수가 나올 확률: {conditional_probability:.2f}\")\n",
    "print(f\"6이 나왔을 때, 짝수가 나올 확률: {conditional_probability:.2%}\")"
   ]
  },
  {
   "cell_type": "markdown",
   "metadata": {},
   "source": [
    "### 베이즈 정리 - 스팸 메일 분류하기"
   ]
  },
  {
   "cell_type": "code",
   "execution_count": null,
   "metadata": {},
   "outputs": [],
   "source": [
    "\"\"\"\n",
    "- 메일함에 들어오는 전체 메일 중 스팸메일의 비율(0.8)\n",
    "- 메일함에 들어오는 전체 메일 중 정상메일의 비율(0.2)\n",
    "- 정상메일에 단어 ‘MONEY’가 들어 있을 확률(0.1)\n",
    "- 스팸메일에 단어 ‘MONEY’가 들어 있을 확률(0.6)\n",
    "\"\"\""
   ]
  },
  {
   "cell_type": "code",
   "execution_count": null,
   "metadata": {},
   "outputs": [],
   "source": [
    "# 어떤 메일에 단어 'MONEY'가 들어있을 때 스팸 메일일 확률\n",
    "\n",
    "spam = 0.8\n",
    "no_spam = 0.2\n",
    "money_in_spam = 0.6\n",
    "money_in_no_spam = 0.1\n",
    "\n",
    "# P(spam|'MONEY')\n",
    "probability_of_spam_if_money = (spam * money_in_spam) / (spam * money_in_spam + no_spam * money_in_no_spam)\n",
    "\n",
    "# P(no spam|'MONEY')\n",
    "probability_of_no_spam_if_money = \n",
    "\n",
    "print(probability_of_spam_if_money)\n",
    "print(probability_of_no_spam_if_money)"
   ]
  },
  {
   "cell_type": "markdown",
   "metadata": {},
   "source": [
    "### 베이즈 정리 - 검사 결과로 질병에 걸릴 확률"
   ]
  },
  {
   "cell_type": "code",
   "execution_count": null,
   "metadata": {},
   "outputs": [],
   "source": [
    "\"\"\"\n",
    "병원에서 특정 질병을 진단하는 검사 결과가 나왔다. \n",
    "이 질병에 걸릴 확률은 1%이며, \n",
    "검사 결과가 양성일 때 실제로 질병에 걸렸을 확률(진양성률)은 90%, \n",
    "음성일 때 실제로 질병이 없을 확률(진음성률)은 95%입니다. \n",
    "만약 어떤 사람이 검사에서 양성 반응을 보였다면, 실제로 그 사람이 질병에 걸렸을 확률은 얼마일까요?\n",
    "\"\"\""
   ]
  },
  {
   "cell_type": "code",
   "execution_count": null,
   "metadata": {},
   "outputs": [],
   "source": []
  },
  {
   "cell_type": "markdown",
   "metadata": {},
   "source": [
    "### 베이즈 정리 - 확률(믿음) 갱신하기"
   ]
  },
  {
   "cell_type": "code",
   "execution_count": null,
   "metadata": {},
   "outputs": [],
   "source": [
    "# 내가 기존에 믿고 있던 사전확률을 관찰된 데이터를 통해 계산한 사후확률로 갱신한다. (내가 갖고 있는 믿음을 갱신하는 과정)"
   ]
  },
  {
   "cell_type": "code",
   "execution_count": null,
   "metadata": {},
   "outputs": [],
   "source": [
    "\"\"\"\n",
    "- 그 사람이 나를 좋아할 확률 ( 0.5 )\n",
    "- 그 사람이 나를 좋아하지 않을 확률 ( 0.5 )\n",
    "- 상대방을 좋아할 때 빼빼로를 줄 확률 (  )\n",
    "- 상대방을 좋아하지 않을 때 빼빼로를 확률 (  )\n",
    "\"\"\""
   ]
  },
  {
   "cell_type": "code",
   "execution_count": null,
   "metadata": {},
   "outputs": [],
   "source": [
    "# 빼빼로를 받았을 때 그 사람이 나를 좋아할 확률"
   ]
  },
  {
   "cell_type": "code",
   "execution_count": null,
   "metadata": {},
   "outputs": [],
   "source": [
    "# 빼빼로 다음으로 이번엔 생일선물을 받았다. 그 사람이 나를 좋아할 확률은?"
   ]
  }
 ],
 "metadata": {
  "kernelspec": {
   "display_name": "Python 3",
   "language": "python",
   "name": "python3"
  },
  "language_info": {
   "codemirror_mode": {
    "name": "ipython",
    "version": 3
   },
   "file_extension": ".py",
   "mimetype": "text/x-python",
   "name": "python",
   "nbconvert_exporter": "python",
   "pygments_lexer": "ipython3",
   "version": "3.8.5"
  },
  "toc-autonumbering": true
 },
 "nbformat": 4,
 "nbformat_minor": 4
}
